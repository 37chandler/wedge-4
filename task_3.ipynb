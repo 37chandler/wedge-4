{
 "cells": [
  {
   "cell_type": "code",
   "execution_count": 1,
   "metadata": {},
   "outputs": [],
   "source": [
    "import os\n",
    "import sqlite3\n",
    "import pandas as pd\n",
    "import numpy as np\n",
    "import matplotlib.pyplot as plt\n",
    "import polars as pl\n",
    "import zipfile\n",
    "from datetime import datetime\n",
    "from pandas_gbq import *\n",
    "from pandas_gbq import to_gbq\n",
    "from pandas_gbq import read_gbq\n",
    "from google.cloud import bigquery\n",
    "from google.oauth2 import service_account"
   ]
  },
  {
   "cell_type": "code",
   "execution_count": 2,
   "metadata": {},
   "outputs": [],
   "source": [
    "## define project and set up paths for Google Big Query\n",
    "service_path = \"C:/Users/breni/Documents/\"\n",
    "service_file = 'niekampbreannawedge-8bbebeea1dda.json'\n",
    "project_id = 'niekampbreannawedge'\n",
    "data_id = 'wedge24'\n",
    "\n",
    "beans_key = service_path + service_file"
   ]
  },
  {
   "cell_type": "code",
   "execution_count": 3,
   "metadata": {},
   "outputs": [],
   "source": [
    "\n",
    "credentials = service_account.Credentials.from_service_account_file(beans_key)\n",
    "\n",
    "client = bigquery.Client(credentials= credentials, project= project_id)"
   ]
  },
  {
   "cell_type": "code",
   "execution_count": 4,
   "metadata": {},
   "outputs": [],
   "source": [
    "conn = sqlite3.connect('wedge_summary.db')"
   ]
  },
  {
   "cell_type": "markdown",
   "metadata": {},
   "source": [
    "# Task 3: Building Summary Tables\n",
    "\n",
    "In this task, summary files will be created that allow quick answers to certain questions. In order to do this, a single SQLite database will be created in python (in a .db file) containing three tables as follows: \n",
    "1. Sales by date by hour\n",
    "2. Sales by Owner by Year by Month\n",
    "3. Sales by Product Description by Year by Month\n",
    "\n",
    "This database will be built with Python below!"
   ]
  },
  {
   "cell_type": "code",
   "execution_count": null,
   "metadata": {},
   "outputs": [],
   "source": [
    "## Query 1: Sales by Date by Hour: By calendar date (YYYY-MM-DD) and hour of the day, \n",
    "# determine the total spend in the store, \n",
    "# the number of transactions, \n",
    "# and a count of the number of items.\n",
    "\n",
    "query1 = \"\"\"\n",
    "    SELECT \n",
    "        EXTRACT(DATE FROM datetime) as sale_date, \n",
    "        EXTRACT(HOUR FROM datetime) as sale_hour,\n",
    "        ROUND(SUM(total), 2) as total_sales,\n",
    "        COUNT(DISTINCT CONCAT(\n",
    "            CAST(EXTRACT(DATE FROM datetime) AS STRING),\n",
    "            CAST(register_no AS STRING),\n",
    "            CAST(emp_no AS STRING),\n",
    "            CAST(trans_no AS STRING)\n",
    "        )) AS num_transactions,\n",
    "        SUM(\n",
    "            CASE\n",
    "                WHEN trans_status IN ('V', 'R') THEN -1\n",
    "                ELSE 1\n",
    "            END\n",
    "        ) AS total_items\n",
    "    FROM `umt-msba.wedge_transactions.transArchive*` AS trans\n",
    "    JOIN `umt-msba.wedge_transactions.department_lookup` AS depts\n",
    "        ON trans.department = depts.department\n",
    "    WHERE trans.department NOT IN (0, 15)\n",
    "        AND card_no != 3\n",
    "        AND (trans_status IS NULL\n",
    "            OR trans_status IN ('V', 'R', '', ' '))\n",
    "    GROUP BY sale_date, sale_hour\n",
    "    ORDER BY sale_date, sale_hour;\n",
    "    \n",
    "\"\"\"\n",
    "\n",
    "df_transactions = read_gbq(query1, project_id= project_id)"
   ]
  },
  {
   "cell_type": "code",
   "execution_count": null,
   "metadata": {},
   "outputs": [],
   "source": [
    "df_transactions"
   ]
  },
  {
   "cell_type": "code",
   "execution_count": null,
   "metadata": {},
   "outputs": [],
   "source": [
    "# saving the table\n",
    "df_transactions.to_sql('sales_by_date_hour', conn, if_exists='append', index=False)"
   ]
  },
  {
   "cell_type": "code",
   "execution_count": null,
   "metadata": {},
   "outputs": [],
   "source": [
    "## TASK 2: Sales by Owner by Year by Month: A file that has the following columns: card_no, year, month, sales, transactions, and items.\n",
    "query2 = \"\"\"\n",
    "    SELECT \n",
    "        EXTRACT(YEAR FROM datetime) as year, \n",
    "        EXTRACT(MONTH FROM datetime) as month,\n",
    "        ROUND(SUM(total), 2) as total_sales,\n",
    "        COUNT(DISTINCT CONCAT(\n",
    "            CAST(EXTRACT(DATE FROM datetime) AS STRING),\n",
    "            CAST(register_no AS STRING),\n",
    "            CAST(emp_no AS STRING),\n",
    "            CAST(trans_no AS STRING)\n",
    "        )) AS num_transactions,\n",
    "        SUM(\n",
    "            CASE\n",
    "                WHEN trans_status IN ('V', 'R') THEN -1\n",
    "                ELSE 1\n",
    "            END\n",
    "        ) AS total_items\n",
    "    FROM `umt-msba.wedge_transactions.transArchive*` AS trans\n",
    "    JOIN `umt-msba.wedge_transactions.department_lookup` AS depts\n",
    "        ON trans.department = depts.department\n",
    "    WHERE trans.department NOT IN (0, 15)\n",
    "        AND card_no != 3\n",
    "        AND (trans_status IS NULL\n",
    "            OR trans_status IN ('V', 'R', '', ' '))\n",
    "    GROUP BY card_no, year, month\n",
    "    ORDER BY year, month;\n",
    "    \n",
    "\"\"\"\n",
    "\n",
    "df_sales_by_owner = read_gbq(query2, project_id= project_id)"
   ]
  },
  {
   "cell_type": "code",
   "execution_count": null,
   "metadata": {},
   "outputs": [],
   "source": [
    "df_sales_by_owner"
   ]
  },
  {
   "cell_type": "code",
   "execution_count": null,
   "metadata": {},
   "outputs": [],
   "source": [
    "# saving \n",
    "df_sales_by_owner.to_sql('sales_by_owner_year_month', conn, if_exists='append', index=False)\n"
   ]
  },
  {
   "cell_type": "code",
   "execution_count": null,
   "metadata": {},
   "outputs": [],
   "source": [
    "## TASK 3: : A file that has the following columns: upc, description, department number, department name, year, month, sales, transactions, and items\n",
    "\n",
    "query3 = \"\"\"\n",
    "    SELECT \n",
    "        trans.upc,\n",
    "        trans.description,\n",
    "        trans.department as department_num,\n",
    "        depts.dept_name,\n",
    "        EXTRACT(YEAR FROM trans.datetime) as year,\n",
    "        EXTRACT(MONTH FROM trans.datetime) as month,\n",
    "        ROUND(SUM(trans.total), 2) as total_sales,\n",
    "        COUNT(DISTINCT CONCAT(\n",
    "            CAST(EXTRACT(DATE FROM trans.datetime) AS STRING),\n",
    "            CAST(trans.register_no AS STRING),\n",
    "            CAST(trans.emp_no AS STRING),\n",
    "            CAST(trans.trans_no AS STRING)\n",
    "        )) AS num_transactions,\n",
    "        SUM(\n",
    "            CASE\n",
    "                WHEN trans.trans_status IN ('V', 'R') THEN -1\n",
    "                ELSE 1\n",
    "            END\n",
    "        ) AS total_items\n",
    "    FROM `umt-msba.wedge_transactions.transArchive*` AS trans\n",
    "    JOIN `umt-msba.wedge_transactions.department_lookup` AS depts\n",
    "        ON trans.department = depts.department\n",
    "    WHERE trans.department NOT IN (0, 15)\n",
    "        AND (CAST(trans.upc AS STRING) != '0' \n",
    "            OR trans.upc IS NULL)\n",
    "    AND (CAST(trans.card_no AS STRING) != '3' \n",
    "        OR trans.card_no IS NULL)\n",
    "    AND (trans.trans_status IS NULL\n",
    "        OR trans.trans_status IN ('V', 'R', '', ' '))\n",
    "GROUP BY trans.upc, trans.description, trans.department, depts.dept_name, year, month\n",
    "ORDER BY year, month;\n",
    "    \n",
    "\"\"\"\n",
    "\n",
    "df_sales_by_product = read_gbq(query3, project_id=project_id)"
   ]
  },
  {
   "cell_type": "code",
   "execution_count": null,
   "metadata": {},
   "outputs": [],
   "source": [
    "df_sales_by_product"
   ]
  },
  {
   "cell_type": "code",
   "execution_count": null,
   "metadata": {},
   "outputs": [],
   "source": [
    "# saving\n",
    "df_sales_by_product.to_sql('sales_by_product_year_month', conn, if_exists='append', index=False)"
   ]
  },
  {
   "cell_type": "code",
   "execution_count": 14,
   "metadata": {},
   "outputs": [],
   "source": [
    "### always close the connection!!!\n",
    "conn.close()"
   ]
  },
  {
   "cell_type": "code",
   "execution_count": null,
   "metadata": {},
   "outputs": [],
   "source": [
    "### Ensuring that our db file was created and is in working fashion\n",
    " \n",
    "conn = sqlite3.connect('wedge_summary.db')\n",
    "\n",
    "# List all tables in db\n",
    "query = \"SELECT name FROM sqlite_master WHERE type='table';\"\n",
    "tables = pd.read_sql(query, conn)\n",
    "print(\"Tables in the database:\")\n",
    "print(tables)\n",
    "\n",
    "# Query and display data from the tables\n",
    "df = pd.read_sql(\"SELECT * FROM sales_by_date_hour LIMIT 5;\", conn)\n",
    "print(\"First 5 rows from sales_by_date_hour:\")\n",
    "print(df)\n",
    "\n",
    "df2 = pd.read_sql(\"SELECT * FROM sales_by_owner_year_month LIMIT 5;\", conn)\n",
    "print(\"First 5 rows from sales_by_owner_year_month:\")\n",
    "print(df2)\n",
    "\n",
    "df3 = pd.read_sql(\"SELECT * FROM sales_by_product_year_month LIMIT 5;\", conn)\n",
    "print(\"First 5 rows from sales_by_product_year_month:\")\n",
    "print(df3)\n",
    "\n",
    "# Close the connection when done\n",
    "conn.close()"
   ]
  },
  {
   "cell_type": "markdown",
   "metadata": {},
   "source": [
    "## Now that we have that working -- we can address our attention to the following questions: \n",
    "\n",
    "How have our sales-by-day changed over the last few months?\n",
    "\n",
    "What is our most popular item in each department?\n",
    "\n",
    "Which owners spend the most per month in each department?"
   ]
  },
  {
   "cell_type": "code",
   "execution_count": null,
   "metadata": {},
   "outputs": [],
   "source": [
    "# Connect to your SQLite database\n",
    "conn = sqlite3.connect('wedge_summary.db')\n",
    "\n",
    "# Query 1: Sales by day trend\n",
    "query_sales_by_day = \"\"\"\n",
    "    SELECT sale_date, SUM(total_sales) AS daily_sales\n",
    "    FROM sales_by_date_hour\n",
    "    GROUP BY sale_date\n",
    "    ORDER BY sale_date DESC\n",
    "    LIMIT 90;\n",
    "\"\"\"\n",
    "df_sales_by_day = pd.read_sql(query_sales_by_day, conn)\n",
    "print(\"Sales by Day (Last 90 Days):\")\n",
    "print(df_sales_by_day)\n"
   ]
  },
  {
   "cell_type": "code",
   "execution_count": null,
   "metadata": {},
   "outputs": [],
   "source": [
    "# Query 2: Most popular item in each department\n",
    "query_popular_item = \"\"\"\n",
    "    WITH item_sales AS (\n",
    "        SELECT upc, description, department_num, dept_name, SUM(total_items) AS total_items_sold\n",
    "        FROM sales_by_product_year_month\n",
    "        GROUP BY upc, description, department_num, dept_name\n",
    "    )\n",
    "    SELECT department_num, dept_name, upc, description, MAX(total_items_sold) AS most_items_sold\n",
    "    FROM item_sales\n",
    "    GROUP BY department_num, dept_name;\n",
    "\"\"\"\n",
    "df_popular_item = pd.read_sql(query_popular_item, conn)\n",
    "print(\"\\nMost Popular Item in Each Department:\")\n",
    "print(df_popular_item)\n"
   ]
  },
  {
   "cell_type": "code",
   "execution_count": null,
   "metadata": {},
   "outputs": [],
   "source": [
    "# Query 3: Top spending owners per month and department\n",
    "query_top_owners = \"\"\"\n",
    "    WITH owner_spending AS (\n",
    "        SELECT card_no, year, month, department_num, dept_name, SUM(total_sales) AS total_spent\n",
    "        FROM sales_by_product_year_month\n",
    "        GROUP BY card_no, year, month, department_num, dept_name\n",
    "    )\n",
    "    SELECT card_no, year, month, department_num, dept_name, MAX(total_spent) AS most_spent\n",
    "    FROM owner_spending\n",
    "    GROUP BY card_no, year, month, department_num, dept_name\n",
    "    ORDER BY most_spent DESC\n",
    "    LIMIT 10;\n",
    "\"\"\"\n",
    "df_top_owners = pd.read_sql(query_top_owners, conn)\n",
    "print(\"\\nTop Spending Owners per Month and Department:\")\n",
    "print(df_top_owners)\n",
    "\n",
    "# Close the database connection\n",
    "conn.close()\n"
   ]
  }
 ],
 "metadata": {
  "kernelspec": {
   "display_name": "Python 3",
   "language": "python",
   "name": "python3"
  },
  "language_info": {
   "codemirror_mode": {
    "name": "ipython",
    "version": 3
   },
   "file_extension": ".py",
   "mimetype": "text/x-python",
   "name": "python",
   "nbconvert_exporter": "python",
   "pygments_lexer": "ipython3",
   "version": "3.12.2"
  }
 },
 "nbformat": 4,
 "nbformat_minor": 2
}
