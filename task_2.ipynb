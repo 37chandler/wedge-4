{
 "cells": [
  {
   "cell_type": "markdown",
   "metadata": {},
   "source": [
    "# Task 2: A Sample of Owners\n",
    "\n",
    "It would be highly efficient to have a local sample of owners to do work. Here, we will generate a file that contains ever record for each owner. In order to accomplish this we will set up a python script below that will carry out the following tasks:\n",
    "\n",
    "1. Connects to my Google Big Query instance.\n",
    "\n",
    "2. Builds a list of owners. \n",
    "\n",
    "3. Takes a sample of the owners. \n",
    "\n",
    "4. Extracts all records associated with the sample of owners and writes them to a local text file. "
   ]
  },
  {
   "cell_type": "code",
   "execution_count": 1,
   "metadata": {},
   "outputs": [],
   "source": [
    "import os\n",
    "import sqlite3\n",
    "import pandas as pd\n",
    "import numpy as np\n",
    "import matplotlib.pyplot as plt\n",
    "import seaborn as sns\n",
    "import polars as pl\n",
    "import zipfile\n",
    "from datetime import datetime\n",
    "from pandas_gbq import *\n",
    "from pandas_gbq import to_gbq\n",
    "from pandas_gbq import read_gbq"
   ]
  },
  {
   "cell_type": "code",
   "execution_count": 2,
   "metadata": {},
   "outputs": [],
   "source": [
    "from google.cloud import bigquery\n",
    "from google.oauth2 import service_account"
   ]
  },
  {
   "cell_type": "code",
   "execution_count": 18,
   "metadata": {},
   "outputs": [],
   "source": [
    "# Set Up Google Big Query Instance\n",
    "service_path = \"C:/Users/breni/Documents/\"\n",
    "service_file = 'niekampbreannawedge-8bbebeea1dda.json'\n",
    "project_id = 'niekampbreannawedge'\n",
    "data_id = 'wedge24'\n",
    "table_id = 'wedge_transactions'\n",
    "\n",
    "beans_key = service_path + service_file\n",
    "\n",
    "credentials = service_account.Credentials.from_service_account_file(beans_key)\n",
    "\n",
    "client = bigquery.Client(credentials= credentials, project= project_id)\n"
   ]
  },
  {
   "cell_type": "code",
   "execution_count": 19,
   "metadata": {},
   "outputs": [
    {
     "name": "stdout",
     "output_type": "stream",
     "text": [
      "Downloading: 100%|\u001b[32m██████████\u001b[0m|\n"
     ]
    }
   ],
   "source": [
    "# Build a List of Owners\n",
    "query_owners = \"\"\"\n",
    "    SELECT DISTINCT card_no\n",
    "    FROM `umt-msba.wedge_transactions.transArchive*`\n",
    "    WHERE card_no != 3\n",
    "\"\"\"\n",
    "\n",
    "df_owners = read_gbq(query_owners, project_id= project_id)"
   ]
  },
  {
   "cell_type": "code",
   "execution_count": 20,
   "metadata": {},
   "outputs": [
    {
     "name": "stdout",
     "output_type": "stream",
     "text": [
      "Total number of owners: 27207\n"
     ]
    }
   ],
   "source": [
    "print(f\"Total number of owners: {len(df_owners)}\")"
   ]
  },
  {
   "cell_type": "code",
   "execution_count": 21,
   "metadata": {},
   "outputs": [
    {
     "name": "stdout",
     "output_type": "stream",
     "text": [
      "Sampled owners:\n",
      "       card_no\n",
      "10879  39311.0\n",
      "12472  16229.0\n",
      "9882   51278.0\n",
      "5631   36848.0\n",
      "3608   12541.0\n",
      "...        ...\n",
      "6181   13116.0\n",
      "15533  22935.0\n",
      "18532  52923.0\n",
      "2057   16108.0\n",
      "3032   25292.0\n",
      "\n",
      "[740 rows x 1 columns]\n"
     ]
    }
   ],
   "source": [
    "# Take Sample of the Owners\n",
    "sample_size = 740  # Adjust this value to get around 250 MB\n",
    "df_sampled_owners = df_owners.sample(n=sample_size)\n",
    "print(f\"Sampled owners:\\n{df_sampled_owners}\")"
   ]
  },
  {
   "cell_type": "code",
   "execution_count": 22,
   "metadata": {},
   "outputs": [],
   "source": [
    "# Extract All Records Associated with the Sample of Owners\n",
    "sampled_owner_list = df_sampled_owners['card_no'].tolist()\n"
   ]
  },
  {
   "cell_type": "code",
   "execution_count": 23,
   "metadata": {},
   "outputs": [],
   "source": [
    "\n",
    "query_transactions = f\"\"\"\n",
    "    SELECT *\n",
    "    FROM `umt-msba.wedge_transactions.transArchive*`\n",
    "    WHERE card_no IN ({','.join(map(str, sampled_owner_list))})\n",
    "\"\"\""
   ]
  },
  {
   "cell_type": "code",
   "execution_count": 24,
   "metadata": {},
   "outputs": [
    {
     "name": "stdout",
     "output_type": "stream",
     "text": [
      "Downloading: 100%|\u001b[32m██████████\u001b[0m|\n"
     ]
    }
   ],
   "source": [
    "\n",
    "df_transactions = read_gbq(query_transactions)\n"
   ]
  },
  {
   "cell_type": "code",
   "execution_count": 25,
   "metadata": {},
   "outputs": [
    {
     "name": "stdout",
     "output_type": "stream",
     "text": [
      "Number of records for sampled owners: 1537436\n"
     ]
    }
   ],
   "source": [
    "print(f\"Number of records for sampled owners: {len(df_transactions)}\")"
   ]
  },
  {
   "cell_type": "code",
   "execution_count": 26,
   "metadata": {},
   "outputs": [],
   "source": [
    "## Write records created to a local file\n",
    "output_file = 'sampled_owner_transactions.csv'\n"
   ]
  },
  {
   "cell_type": "code",
   "execution_count": 27,
   "metadata": {},
   "outputs": [],
   "source": [
    "df_transactions.to_csv(output_file, index=False)"
   ]
  }
 ],
 "metadata": {
  "kernelspec": {
   "display_name": "Python 3",
   "language": "python",
   "name": "python3"
  },
  "language_info": {
   "codemirror_mode": {
    "name": "ipython",
    "version": 3
   },
   "file_extension": ".py",
   "mimetype": "text/x-python",
   "name": "python",
   "nbconvert_exporter": "python",
   "pygments_lexer": "ipython3",
   "version": "3.12.2"
  }
 },
 "nbformat": 4,
 "nbformat_minor": 2
}
